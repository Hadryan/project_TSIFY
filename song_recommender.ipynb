{
 "cells": [
  {
   "cell_type": "markdown",
   "metadata": {},
   "source": [
    "## Data and Libraries"
   ]
  },
  {
   "cell_type": "markdown",
   "metadata": {},
   "source": [
    "### Import Libraries"
   ]
  },
  {
   "cell_type": "code",
   "execution_count": 72,
   "metadata": {},
   "outputs": [],
   "source": [
    "# Import needed libraries\n",
    "import pandas as pd\n",
    "import numpy as np\n",
    "import seaborn as sns\n",
    "import matplotlib.pyplot as plt\n",
    "\n",
    "from sklearn.preprocessing import StandardScaler\n",
    "from sklearn.preprocessing import LabelEncoder\n",
    "\n",
    "from sklearn.model_selection import train_test_split, learning_curve, cross_val_score\n",
    "\n",
    "from sklearn.metrics import classification_report, accuracy_score, recall_score, precision_score, precision_score\n",
    "from sklearn.metrics import f1_score, precision_recall_curve, roc_auc_score, roc_curve\n",
    "\n",
    "\n",
    "from sklearn.linear_model import LogisticRegression\n",
    "from sklearn.neighbors import KNeighborsClassifier\n",
    "from sklearn.naive_bayes import GaussianNB\n",
    "from sklearn.svm import SVC\n",
    "from sklearn.tree import DecisionTreeClassifier\n",
    "from sklearn.ensemble import RandomForestClassifier\n",
    "import xgboost as xgb"
   ]
  },
  {
   "cell_type": "markdown",
   "metadata": {},
   "source": [
    "### Import Data"
   ]
  },
  {
   "cell_type": "code",
   "execution_count": 2,
   "metadata": {},
   "outputs": [],
   "source": [
    "# Import music and member data\n",
    "train_df = pd.read_csv('train.csv')\n",
    "test_df = pd.read_csv('test.csv')\n",
    "songs_df = pd.read_csv('songs.csv')\n",
    "members_df = pd.read_csv('members.csv')\n",
    "song_extra_df = pd.read_csv('song_extra_info.csv')"
   ]
  },
  {
   "cell_type": "code",
   "execution_count": 3,
   "metadata": {},
   "outputs": [
    {
     "name": "stdout",
     "output_type": "stream",
     "text": [
      "Columns of train :  Index(['msno', 'song_id', 'source_system_tab', 'source_screen_name',\n",
      "       'source_type', 'target'],\n",
      "      dtype='object')\n",
      "Columns of test : Index(['id', 'msno', 'song_id', 'source_system_tab', 'source_screen_name',\n",
      "       'source_type'],\n",
      "      dtype='object')\n",
      "Columns of songs :  Index(['song_id', 'song_length', 'genre_ids', 'artist_name', 'composer',\n",
      "       'lyricist', 'language'],\n",
      "      dtype='object')\n",
      "Columns of members :  Index(['msno', 'city', 'bd', 'gender', 'registered_via',\n",
      "       'registration_init_time', 'expiration_date'],\n",
      "      dtype='object')\n",
      "Columns of songs_extra_info :  Index(['song_id', 'name', 'isrc'], dtype='object')\n"
     ]
    }
   ],
   "source": [
    "# Print columns of each dataframe\n",
    "print('Columns of train : ', train_df.columns)\n",
    "print('Columns of test :', test_df.columns) # Only used for Kaggle competition\n",
    "print('Columns of songs : ', songs_df.columns)\n",
    "print('Columns of members : ', members_df.columns)\n",
    "print('Columns of songs_extra_info : ', song_extra_df.columns)"
   ]
  },
  {
   "cell_type": "code",
   "execution_count": 4,
   "metadata": {},
   "outputs": [
    {
     "name": "stdout",
     "output_type": "stream",
     "text": [
      "Shape of train file is :  (7377418, 6)\n",
      "Shape of test file is :  (2556790, 6)\n",
      "Shape of songs file is :  (2296320, 7)\n",
      "Shape of members file is :  (34403, 7)\n",
      "Shape of songs_extra_info file is :  (2295971, 3)\n"
     ]
    }
   ],
   "source": [
    "# Print size of each dataframe\n",
    "print('Shape of train file is : ', train_df.shape)\n",
    "print('Shape of test file is : ', test_df.shape)\n",
    "print('Shape of songs file is : ', songs_df.shape)\n",
    "print('Shape of members file is : ', members_df.shape)\n",
    "print('Shape of songs_extra_info file is : ', song_extra_df.shape)"
   ]
  },
  {
   "cell_type": "markdown",
   "metadata": {},
   "source": [
    "## Exploratory Data Analysis (EDA)"
   ]
  },
  {
   "cell_type": "markdown",
   "metadata": {},
   "source": [
    "### Train Data"
   ]
  },
  {
   "cell_type": "code",
   "execution_count": 5,
   "metadata": {},
   "outputs": [
    {
     "data": {
      "text/html": [
       "<div>\n",
       "<style scoped>\n",
       "    .dataframe tbody tr th:only-of-type {\n",
       "        vertical-align: middle;\n",
       "    }\n",
       "\n",
       "    .dataframe tbody tr th {\n",
       "        vertical-align: top;\n",
       "    }\n",
       "\n",
       "    .dataframe thead th {\n",
       "        text-align: right;\n",
       "    }\n",
       "</style>\n",
       "<table border=\"1\" class=\"dataframe\">\n",
       "  <thead>\n",
       "    <tr style=\"text-align: right;\">\n",
       "      <th></th>\n",
       "      <th>msno</th>\n",
       "      <th>song_id</th>\n",
       "      <th>source_system_tab</th>\n",
       "      <th>source_screen_name</th>\n",
       "      <th>source_type</th>\n",
       "      <th>target</th>\n",
       "    </tr>\n",
       "  </thead>\n",
       "  <tbody>\n",
       "    <tr>\n",
       "      <th>0</th>\n",
       "      <td>FGtllVqz18RPiwJj/edr2gV78zirAiY/9SmYvia+kCg=</td>\n",
       "      <td>BBzumQNXUHKdEBOB7mAJuzok+IJA1c2Ryg/yzTF6tik=</td>\n",
       "      <td>explore</td>\n",
       "      <td>Explore</td>\n",
       "      <td>online-playlist</td>\n",
       "      <td>1</td>\n",
       "    </tr>\n",
       "    <tr>\n",
       "      <th>1</th>\n",
       "      <td>Xumu+NIjS6QYVxDS4/t3SawvJ7viT9hPKXmf0RtLNx8=</td>\n",
       "      <td>bhp/MpSNoqoxOIB+/l8WPqu6jldth4DIpCm3ayXnJqM=</td>\n",
       "      <td>my library</td>\n",
       "      <td>Local playlist more</td>\n",
       "      <td>local-playlist</td>\n",
       "      <td>1</td>\n",
       "    </tr>\n",
       "    <tr>\n",
       "      <th>2</th>\n",
       "      <td>Xumu+NIjS6QYVxDS4/t3SawvJ7viT9hPKXmf0RtLNx8=</td>\n",
       "      <td>JNWfrrC7zNN7BdMpsISKa4Mw+xVJYNnxXh3/Epw7QgY=</td>\n",
       "      <td>my library</td>\n",
       "      <td>Local playlist more</td>\n",
       "      <td>local-playlist</td>\n",
       "      <td>1</td>\n",
       "    </tr>\n",
       "    <tr>\n",
       "      <th>3</th>\n",
       "      <td>Xumu+NIjS6QYVxDS4/t3SawvJ7viT9hPKXmf0RtLNx8=</td>\n",
       "      <td>2A87tzfnJTSWqD7gIZHisolhe4DMdzkbd6LzO1KHjNs=</td>\n",
       "      <td>my library</td>\n",
       "      <td>Local playlist more</td>\n",
       "      <td>local-playlist</td>\n",
       "      <td>1</td>\n",
       "    </tr>\n",
       "    <tr>\n",
       "      <th>4</th>\n",
       "      <td>FGtllVqz18RPiwJj/edr2gV78zirAiY/9SmYvia+kCg=</td>\n",
       "      <td>3qm6XTZ6MOCU11x8FIVbAGH5l5uMkT3/ZalWG1oo2Gc=</td>\n",
       "      <td>explore</td>\n",
       "      <td>Explore</td>\n",
       "      <td>online-playlist</td>\n",
       "      <td>1</td>\n",
       "    </tr>\n",
       "  </tbody>\n",
       "</table>\n",
       "</div>"
      ],
      "text/plain": [
       "                                           msno  \\\n",
       "0  FGtllVqz18RPiwJj/edr2gV78zirAiY/9SmYvia+kCg=   \n",
       "1  Xumu+NIjS6QYVxDS4/t3SawvJ7viT9hPKXmf0RtLNx8=   \n",
       "2  Xumu+NIjS6QYVxDS4/t3SawvJ7viT9hPKXmf0RtLNx8=   \n",
       "3  Xumu+NIjS6QYVxDS4/t3SawvJ7viT9hPKXmf0RtLNx8=   \n",
       "4  FGtllVqz18RPiwJj/edr2gV78zirAiY/9SmYvia+kCg=   \n",
       "\n",
       "                                        song_id source_system_tab  \\\n",
       "0  BBzumQNXUHKdEBOB7mAJuzok+IJA1c2Ryg/yzTF6tik=           explore   \n",
       "1  bhp/MpSNoqoxOIB+/l8WPqu6jldth4DIpCm3ayXnJqM=        my library   \n",
       "2  JNWfrrC7zNN7BdMpsISKa4Mw+xVJYNnxXh3/Epw7QgY=        my library   \n",
       "3  2A87tzfnJTSWqD7gIZHisolhe4DMdzkbd6LzO1KHjNs=        my library   \n",
       "4  3qm6XTZ6MOCU11x8FIVbAGH5l5uMkT3/ZalWG1oo2Gc=           explore   \n",
       "\n",
       "    source_screen_name      source_type  target  \n",
       "0              Explore  online-playlist       1  \n",
       "1  Local playlist more   local-playlist       1  \n",
       "2  Local playlist more   local-playlist       1  \n",
       "3  Local playlist more   local-playlist       1  \n",
       "4              Explore  online-playlist       1  "
      ]
     },
     "execution_count": 5,
     "metadata": {},
     "output_type": "execute_result"
    }
   ],
   "source": [
    "# View top 5 rows of dataframe\n",
    "train_df.head()"
   ]
  },
  {
   "cell_type": "code",
   "execution_count": 6,
   "metadata": {},
   "outputs": [
    {
     "name": "stdout",
     "output_type": "stream",
     "text": [
      "<class 'pandas.core.frame.DataFrame'>\n",
      "RangeIndex: 7377418 entries, 0 to 7377417\n",
      "Data columns (total 6 columns):\n",
      " #   Column              Dtype \n",
      "---  ------              ----- \n",
      " 0   msno                object\n",
      " 1   song_id             object\n",
      " 2   source_system_tab   object\n",
      " 3   source_screen_name  object\n",
      " 4   source_type         object\n",
      " 5   target              int64 \n",
      "dtypes: int64(1), object(5)\n",
      "memory usage: 337.7+ MB\n"
     ]
    }
   ],
   "source": [
    "# Get info on each column\n",
    "train_df.info()"
   ]
  },
  {
   "cell_type": "code",
   "execution_count": 7,
   "metadata": {},
   "outputs": [
    {
     "name": "stdout",
     "output_type": "stream",
     "text": [
      "0 : 49.65%\n",
      "1 : 50.35%\n"
     ]
    }
   ],
   "source": [
    "# Find target category proportions - needs be close to equal\n",
    "print('0 : {:.2f}%'.format(train_df['target'].value_counts()[0]/train_df.shape[0] * 100))\n",
    "print('1 : {:.2f}%'.format(train_df['target'].value_counts()[1]/train_df.shape[0] * 100))"
   ]
  },
  {
   "cell_type": "code",
   "execution_count": 8,
   "metadata": {},
   "outputs": [
    {
     "name": "stdout",
     "output_type": "stream",
     "text": [
      "explore : 2.28%\n",
      "my library : 49.95%\n",
      "search : 8.45%\n",
      "discover : 29.54%\n",
      "radio : 6.46%\n",
      "listen with : 2.88%\n",
      "notification : 0.08%\n",
      "settings : 0.03%\n"
     ]
    }
   ],
   "source": [
    "# Get a breakdown of unique values in source_system_tab\n",
    "unique_values = train_df.source_system_tab.dropna().unique()\n",
    "for value in unique_values:\n",
    "    print(str(value) + ' : {:.2f}%'.format(train_df['source_system_tab'].value_counts()[value]/train_df.shape[0] * 100))"
   ]
  },
  {
   "cell_type": "code",
   "execution_count": 9,
   "metadata": {},
   "outputs": [
    {
     "name": "stdout",
     "output_type": "stream",
     "text": [
      "Explore : 0.98%\n",
      "Local playlist more : 43.76%\n",
      "My library : 1.03%\n",
      "Online playlist more : 17.55%\n",
      "Album more : 5.70%\n",
      "Discover Feature : 3.31%\n",
      "Unknown : 0.73%\n",
      "Discover Chart : 2.90%\n",
      "Radio : 6.43%\n",
      "Artist more : 3.42%\n",
      "Search : 4.05%\n",
      "Others profile more : 2.74%\n",
      "Search Trends : 0.18%\n",
      "Discover Genre : 1.11%\n",
      "My library_Search : 0.09%\n",
      "Search Home : 0.18%\n",
      "Discover New : 0.22%\n",
      "Self profile more : 0.00%\n",
      "Concert : 0.00%\n",
      "Payment : 0.00%\n"
     ]
    }
   ],
   "source": [
    "# Get a breakdown of unique values in source_screen_name\n",
    "unique_values = train_df.source_screen_name.dropna().unique()\n",
    "for value in unique_values:\n",
    "    print(str(value) + ' : {:.2f}%'.format(train_df['source_screen_name'].value_counts()[value]/train_df.shape[0] * 100))"
   ]
  },
  {
   "cell_type": "code",
   "execution_count": 10,
   "metadata": {},
   "outputs": [
    {
     "name": "stdout",
     "output_type": "stream",
     "text": [
      "online-playlist : 26.67%\n",
      "local-playlist : 14.63%\n",
      "local-library : 30.65%\n",
      "top-hits-for-artist : 5.74%\n",
      "album : 6.47%\n",
      "song-based-playlist : 2.85%\n",
      "radio : 6.55%\n",
      "song : 3.32%\n",
      "listen-with : 2.61%\n",
      "artist : 0.04%\n",
      "topic-article-playlist : 0.15%\n",
      "my-daily-playlist : 0.01%\n"
     ]
    }
   ],
   "source": [
    "# Get a breakdown of unique values in source_type\n",
    "unique_values = train_df.source_type.dropna().unique()\n",
    "for value in unique_values:\n",
    "    print(str(value) + ' : {:.2f}%'.format(train_df['source_type'].value_counts()[value]/train_df.shape[0] * 100))"
   ]
  },
  {
   "cell_type": "markdown",
   "metadata": {},
   "source": [
    "### Songs and Song Extra Data"
   ]
  },
  {
   "cell_type": "code",
   "execution_count": 11,
   "metadata": {},
   "outputs": [
    {
     "data": {
      "text/html": [
       "<div>\n",
       "<style scoped>\n",
       "    .dataframe tbody tr th:only-of-type {\n",
       "        vertical-align: middle;\n",
       "    }\n",
       "\n",
       "    .dataframe tbody tr th {\n",
       "        vertical-align: top;\n",
       "    }\n",
       "\n",
       "    .dataframe thead th {\n",
       "        text-align: right;\n",
       "    }\n",
       "</style>\n",
       "<table border=\"1\" class=\"dataframe\">\n",
       "  <thead>\n",
       "    <tr style=\"text-align: right;\">\n",
       "      <th></th>\n",
       "      <th>song_id</th>\n",
       "      <th>song_length</th>\n",
       "      <th>genre_ids</th>\n",
       "      <th>artist_name</th>\n",
       "      <th>composer</th>\n",
       "      <th>lyricist</th>\n",
       "      <th>language</th>\n",
       "    </tr>\n",
       "  </thead>\n",
       "  <tbody>\n",
       "    <tr>\n",
       "      <th>0</th>\n",
       "      <td>CXoTN1eb7AI+DntdU1vbcwGRV4SCIDxZu+YD8JP8r4E=</td>\n",
       "      <td>247640</td>\n",
       "      <td>465</td>\n",
       "      <td>張信哲 (Jeff Chang)</td>\n",
       "      <td>董貞</td>\n",
       "      <td>何啟弘</td>\n",
       "      <td>3.0</td>\n",
       "    </tr>\n",
       "    <tr>\n",
       "      <th>1</th>\n",
       "      <td>o0kFgae9QtnYgRkVPqLJwa05zIhRlUjfF7O1tDw0ZDU=</td>\n",
       "      <td>197328</td>\n",
       "      <td>444</td>\n",
       "      <td>BLACKPINK</td>\n",
       "      <td>TEDDY|  FUTURE BOUNCE|  Bekuh BOOM</td>\n",
       "      <td>TEDDY</td>\n",
       "      <td>31.0</td>\n",
       "    </tr>\n",
       "    <tr>\n",
       "      <th>2</th>\n",
       "      <td>DwVvVurfpuz+XPuFvucclVQEyPqcpUkHR0ne1RQzPs0=</td>\n",
       "      <td>231781</td>\n",
       "      <td>465</td>\n",
       "      <td>SUPER JUNIOR</td>\n",
       "      <td>NaN</td>\n",
       "      <td>NaN</td>\n",
       "      <td>31.0</td>\n",
       "    </tr>\n",
       "    <tr>\n",
       "      <th>3</th>\n",
       "      <td>dKMBWoZyScdxSkihKG+Vf47nc18N9q4m58+b4e7dSSE=</td>\n",
       "      <td>273554</td>\n",
       "      <td>465</td>\n",
       "      <td>S.H.E</td>\n",
       "      <td>湯小康</td>\n",
       "      <td>徐世珍</td>\n",
       "      <td>3.0</td>\n",
       "    </tr>\n",
       "    <tr>\n",
       "      <th>4</th>\n",
       "      <td>W3bqWd3T+VeHFzHAUfARgW9AvVRaF4N5Yzm4Mr6Eo/o=</td>\n",
       "      <td>140329</td>\n",
       "      <td>726</td>\n",
       "      <td>貴族精選</td>\n",
       "      <td>Traditional</td>\n",
       "      <td>Traditional</td>\n",
       "      <td>52.0</td>\n",
       "    </tr>\n",
       "  </tbody>\n",
       "</table>\n",
       "</div>"
      ],
      "text/plain": [
       "                                        song_id  song_length genre_ids  \\\n",
       "0  CXoTN1eb7AI+DntdU1vbcwGRV4SCIDxZu+YD8JP8r4E=       247640       465   \n",
       "1  o0kFgae9QtnYgRkVPqLJwa05zIhRlUjfF7O1tDw0ZDU=       197328       444   \n",
       "2  DwVvVurfpuz+XPuFvucclVQEyPqcpUkHR0ne1RQzPs0=       231781       465   \n",
       "3  dKMBWoZyScdxSkihKG+Vf47nc18N9q4m58+b4e7dSSE=       273554       465   \n",
       "4  W3bqWd3T+VeHFzHAUfARgW9AvVRaF4N5Yzm4Mr6Eo/o=       140329       726   \n",
       "\n",
       "        artist_name                            composer     lyricist  language  \n",
       "0  張信哲 (Jeff Chang)                                  董貞          何啟弘       3.0  \n",
       "1         BLACKPINK  TEDDY|  FUTURE BOUNCE|  Bekuh BOOM        TEDDY      31.0  \n",
       "2      SUPER JUNIOR                                 NaN          NaN      31.0  \n",
       "3             S.H.E                                 湯小康          徐世珍       3.0  \n",
       "4              貴族精選                         Traditional  Traditional      52.0  "
      ]
     },
     "execution_count": 11,
     "metadata": {},
     "output_type": "execute_result"
    }
   ],
   "source": [
    "# View top 5 rows of dataframe\n",
    "songs_df.head()"
   ]
  },
  {
   "cell_type": "code",
   "execution_count": 12,
   "metadata": {},
   "outputs": [
    {
     "data": {
      "text/html": [
       "<div>\n",
       "<style scoped>\n",
       "    .dataframe tbody tr th:only-of-type {\n",
       "        vertical-align: middle;\n",
       "    }\n",
       "\n",
       "    .dataframe tbody tr th {\n",
       "        vertical-align: top;\n",
       "    }\n",
       "\n",
       "    .dataframe thead th {\n",
       "        text-align: right;\n",
       "    }\n",
       "</style>\n",
       "<table border=\"1\" class=\"dataframe\">\n",
       "  <thead>\n",
       "    <tr style=\"text-align: right;\">\n",
       "      <th></th>\n",
       "      <th>song_id</th>\n",
       "      <th>name</th>\n",
       "      <th>isrc</th>\n",
       "    </tr>\n",
       "  </thead>\n",
       "  <tbody>\n",
       "    <tr>\n",
       "      <th>0</th>\n",
       "      <td>LP7pLJoJFBvyuUwvu+oLzjT+bI+UeBPURCecJsX1jjs=</td>\n",
       "      <td>我們</td>\n",
       "      <td>TWUM71200043</td>\n",
       "    </tr>\n",
       "    <tr>\n",
       "      <th>1</th>\n",
       "      <td>ClazTFnk6r0Bnuie44bocdNMM3rdlrq0bCGAsGUWcHE=</td>\n",
       "      <td>Let Me Love You</td>\n",
       "      <td>QMZSY1600015</td>\n",
       "    </tr>\n",
       "    <tr>\n",
       "      <th>2</th>\n",
       "      <td>u2ja/bZE3zhCGxvbbOB3zOoUjx27u40cf5g09UXMoKQ=</td>\n",
       "      <td>原諒我</td>\n",
       "      <td>TWA530887303</td>\n",
       "    </tr>\n",
       "    <tr>\n",
       "      <th>3</th>\n",
       "      <td>92Fqsy0+p6+RHe2EoLKjHahORHR1Kq1TBJoClW9v+Ts=</td>\n",
       "      <td>Classic</td>\n",
       "      <td>USSM11301446</td>\n",
       "    </tr>\n",
       "    <tr>\n",
       "      <th>4</th>\n",
       "      <td>0QFmz/+rJy1Q56C1DuYqT9hKKqi5TUqx0sN0IwvoHrw=</td>\n",
       "      <td>愛投羅網</td>\n",
       "      <td>TWA471306001</td>\n",
       "    </tr>\n",
       "  </tbody>\n",
       "</table>\n",
       "</div>"
      ],
      "text/plain": [
       "                                        song_id             name          isrc\n",
       "0  LP7pLJoJFBvyuUwvu+oLzjT+bI+UeBPURCecJsX1jjs=               我們  TWUM71200043\n",
       "1  ClazTFnk6r0Bnuie44bocdNMM3rdlrq0bCGAsGUWcHE=  Let Me Love You  QMZSY1600015\n",
       "2  u2ja/bZE3zhCGxvbbOB3zOoUjx27u40cf5g09UXMoKQ=              原諒我  TWA530887303\n",
       "3  92Fqsy0+p6+RHe2EoLKjHahORHR1Kq1TBJoClW9v+Ts=          Classic  USSM11301446\n",
       "4  0QFmz/+rJy1Q56C1DuYqT9hKKqi5TUqx0sN0IwvoHrw=             愛投羅網  TWA471306001"
      ]
     },
     "execution_count": 12,
     "metadata": {},
     "output_type": "execute_result"
    }
   ],
   "source": [
    "# View top 5 rows of dataframe\n",
    "song_extra_df.head()"
   ]
  },
  {
   "cell_type": "code",
   "execution_count": 13,
   "metadata": {},
   "outputs": [
    {
     "name": "stdout",
     "output_type": "stream",
     "text": [
      "3.0 : 4.63%\n",
      "31.0 : 1.71%\n",
      "52.0 : 58.21%\n",
      "17.0 : 4.03%\n",
      "10.0 : 0.67%\n",
      "-1.0 : 27.85%\n",
      "24.0 : 1.82%\n",
      "59.0 : 0.35%\n",
      "45.0 : 0.63%\n",
      "38.0 : 0.10%\n"
     ]
    }
   ],
   "source": [
    "# Get a breakdown of unique values in language\n",
    "unique_values = songs_df.language.dropna().unique()\n",
    "for value in unique_values:\n",
    "    print(str(value) + ' : {:.2f}%'.format(songs_df['language'].value_counts()[value]/songs_df.shape[0] * 100))"
   ]
  },
  {
   "cell_type": "markdown",
   "metadata": {},
   "source": [
    "### Member Data"
   ]
  },
  {
   "cell_type": "code",
   "execution_count": 14,
   "metadata": {},
   "outputs": [
    {
     "data": {
      "text/html": [
       "<div>\n",
       "<style scoped>\n",
       "    .dataframe tbody tr th:only-of-type {\n",
       "        vertical-align: middle;\n",
       "    }\n",
       "\n",
       "    .dataframe tbody tr th {\n",
       "        vertical-align: top;\n",
       "    }\n",
       "\n",
       "    .dataframe thead th {\n",
       "        text-align: right;\n",
       "    }\n",
       "</style>\n",
       "<table border=\"1\" class=\"dataframe\">\n",
       "  <thead>\n",
       "    <tr style=\"text-align: right;\">\n",
       "      <th></th>\n",
       "      <th>msno</th>\n",
       "      <th>city</th>\n",
       "      <th>bd</th>\n",
       "      <th>gender</th>\n",
       "      <th>registered_via</th>\n",
       "      <th>registration_init_time</th>\n",
       "      <th>expiration_date</th>\n",
       "    </tr>\n",
       "  </thead>\n",
       "  <tbody>\n",
       "    <tr>\n",
       "      <th>0</th>\n",
       "      <td>XQxgAYj3klVKjR3oxPPXYYFp4soD4TuBghkhMTD4oTw=</td>\n",
       "      <td>1</td>\n",
       "      <td>0</td>\n",
       "      <td>NaN</td>\n",
       "      <td>7</td>\n",
       "      <td>20110820</td>\n",
       "      <td>20170920</td>\n",
       "    </tr>\n",
       "    <tr>\n",
       "      <th>1</th>\n",
       "      <td>UizsfmJb9mV54qE9hCYyU07Va97c0lCRLEQX3ae+ztM=</td>\n",
       "      <td>1</td>\n",
       "      <td>0</td>\n",
       "      <td>NaN</td>\n",
       "      <td>7</td>\n",
       "      <td>20150628</td>\n",
       "      <td>20170622</td>\n",
       "    </tr>\n",
       "    <tr>\n",
       "      <th>2</th>\n",
       "      <td>D8nEhsIOBSoE6VthTaqDX8U6lqjJ7dLdr72mOyLya2A=</td>\n",
       "      <td>1</td>\n",
       "      <td>0</td>\n",
       "      <td>NaN</td>\n",
       "      <td>4</td>\n",
       "      <td>20160411</td>\n",
       "      <td>20170712</td>\n",
       "    </tr>\n",
       "    <tr>\n",
       "      <th>3</th>\n",
       "      <td>mCuD+tZ1hERA/o5GPqk38e041J8ZsBaLcu7nGoIIvhI=</td>\n",
       "      <td>1</td>\n",
       "      <td>0</td>\n",
       "      <td>NaN</td>\n",
       "      <td>9</td>\n",
       "      <td>20150906</td>\n",
       "      <td>20150907</td>\n",
       "    </tr>\n",
       "    <tr>\n",
       "      <th>4</th>\n",
       "      <td>q4HRBfVSssAFS9iRfxWrohxuk9kCYMKjHOEagUMV6rQ=</td>\n",
       "      <td>1</td>\n",
       "      <td>0</td>\n",
       "      <td>NaN</td>\n",
       "      <td>4</td>\n",
       "      <td>20170126</td>\n",
       "      <td>20170613</td>\n",
       "    </tr>\n",
       "  </tbody>\n",
       "</table>\n",
       "</div>"
      ],
      "text/plain": [
       "                                           msno  city  bd gender  \\\n",
       "0  XQxgAYj3klVKjR3oxPPXYYFp4soD4TuBghkhMTD4oTw=     1   0    NaN   \n",
       "1  UizsfmJb9mV54qE9hCYyU07Va97c0lCRLEQX3ae+ztM=     1   0    NaN   \n",
       "2  D8nEhsIOBSoE6VthTaqDX8U6lqjJ7dLdr72mOyLya2A=     1   0    NaN   \n",
       "3  mCuD+tZ1hERA/o5GPqk38e041J8ZsBaLcu7nGoIIvhI=     1   0    NaN   \n",
       "4  q4HRBfVSssAFS9iRfxWrohxuk9kCYMKjHOEagUMV6rQ=     1   0    NaN   \n",
       "\n",
       "   registered_via  registration_init_time  expiration_date  \n",
       "0               7                20110820         20170920  \n",
       "1               7                20150628         20170622  \n",
       "2               4                20160411         20170712  \n",
       "3               9                20150906         20150907  \n",
       "4               4                20170126         20170613  "
      ]
     },
     "execution_count": 14,
     "metadata": {},
     "output_type": "execute_result"
    }
   ],
   "source": [
    "# View top 5 rows of dataframe\n",
    "members_df.head()"
   ]
  },
  {
   "cell_type": "code",
   "execution_count": 15,
   "metadata": {},
   "outputs": [
    {
     "data": {
      "text/html": [
       "<div>\n",
       "<style scoped>\n",
       "    .dataframe tbody tr th:only-of-type {\n",
       "        vertical-align: middle;\n",
       "    }\n",
       "\n",
       "    .dataframe tbody tr th {\n",
       "        vertical-align: top;\n",
       "    }\n",
       "\n",
       "    .dataframe thead th {\n",
       "        text-align: right;\n",
       "    }\n",
       "</style>\n",
       "<table border=\"1\" class=\"dataframe\">\n",
       "  <thead>\n",
       "    <tr style=\"text-align: right;\">\n",
       "      <th></th>\n",
       "      <th>city</th>\n",
       "      <th>bd</th>\n",
       "      <th>registered_via</th>\n",
       "      <th>registration_init_time</th>\n",
       "      <th>expiration_date</th>\n",
       "    </tr>\n",
       "  </thead>\n",
       "  <tbody>\n",
       "    <tr>\n",
       "      <th>count</th>\n",
       "      <td>34403.000000</td>\n",
       "      <td>34403.000000</td>\n",
       "      <td>34403.000000</td>\n",
       "      <td>3.440300e+04</td>\n",
       "      <td>3.440300e+04</td>\n",
       "    </tr>\n",
       "    <tr>\n",
       "      <th>mean</th>\n",
       "      <td>5.371276</td>\n",
       "      <td>12.280935</td>\n",
       "      <td>5.953376</td>\n",
       "      <td>2.013994e+07</td>\n",
       "      <td>2.016901e+07</td>\n",
       "    </tr>\n",
       "    <tr>\n",
       "      <th>std</th>\n",
       "      <td>6.243929</td>\n",
       "      <td>18.170251</td>\n",
       "      <td>2.287534</td>\n",
       "      <td>2.954015e+04</td>\n",
       "      <td>7.320925e+03</td>\n",
       "    </tr>\n",
       "    <tr>\n",
       "      <th>min</th>\n",
       "      <td>1.000000</td>\n",
       "      <td>-43.000000</td>\n",
       "      <td>3.000000</td>\n",
       "      <td>2.004033e+07</td>\n",
       "      <td>1.970010e+07</td>\n",
       "    </tr>\n",
       "    <tr>\n",
       "      <th>25%</th>\n",
       "      <td>1.000000</td>\n",
       "      <td>0.000000</td>\n",
       "      <td>4.000000</td>\n",
       "      <td>2.012103e+07</td>\n",
       "      <td>2.017020e+07</td>\n",
       "    </tr>\n",
       "    <tr>\n",
       "      <th>50%</th>\n",
       "      <td>1.000000</td>\n",
       "      <td>0.000000</td>\n",
       "      <td>7.000000</td>\n",
       "      <td>2.015090e+07</td>\n",
       "      <td>2.017091e+07</td>\n",
       "    </tr>\n",
       "    <tr>\n",
       "      <th>75%</th>\n",
       "      <td>10.000000</td>\n",
       "      <td>25.000000</td>\n",
       "      <td>9.000000</td>\n",
       "      <td>2.016110e+07</td>\n",
       "      <td>2.017093e+07</td>\n",
       "    </tr>\n",
       "    <tr>\n",
       "      <th>max</th>\n",
       "      <td>22.000000</td>\n",
       "      <td>1051.000000</td>\n",
       "      <td>16.000000</td>\n",
       "      <td>2.017023e+07</td>\n",
       "      <td>2.020102e+07</td>\n",
       "    </tr>\n",
       "  </tbody>\n",
       "</table>\n",
       "</div>"
      ],
      "text/plain": [
       "               city            bd  registered_via  registration_init_time  \\\n",
       "count  34403.000000  34403.000000    34403.000000            3.440300e+04   \n",
       "mean       5.371276     12.280935        5.953376            2.013994e+07   \n",
       "std        6.243929     18.170251        2.287534            2.954015e+04   \n",
       "min        1.000000    -43.000000        3.000000            2.004033e+07   \n",
       "25%        1.000000      0.000000        4.000000            2.012103e+07   \n",
       "50%        1.000000      0.000000        7.000000            2.015090e+07   \n",
       "75%       10.000000     25.000000        9.000000            2.016110e+07   \n",
       "max       22.000000   1051.000000       16.000000            2.017023e+07   \n",
       "\n",
       "       expiration_date  \n",
       "count     3.440300e+04  \n",
       "mean      2.016901e+07  \n",
       "std       7.320925e+03  \n",
       "min       1.970010e+07  \n",
       "25%       2.017020e+07  \n",
       "50%       2.017091e+07  \n",
       "75%       2.017093e+07  \n",
       "max       2.020102e+07  "
      ]
     },
     "execution_count": 15,
     "metadata": {},
     "output_type": "execute_result"
    }
   ],
   "source": [
    "# Get basic statistics for continuous features\n",
    "members_df.describe()"
   ]
  },
  {
   "cell_type": "code",
   "execution_count": 16,
   "metadata": {},
   "outputs": [
    {
     "name": "stdout",
     "output_type": "stream",
     "text": [
      "1 : 56.52%\n",
      "13 : 9.87%\n",
      "12 : 1.43%\n",
      "15 : 4.43%\n",
      "5 : 7.66%\n",
      "6 : 2.65%\n",
      "4 : 5.03%\n",
      "11 : 0.83%\n",
      "18 : 0.75%\n",
      "22 : 4.26%\n",
      "14 : 2.06%\n",
      "8 : 0.84%\n",
      "20 : 0.08%\n",
      "3 : 0.59%\n",
      "17 : 0.44%\n",
      "10 : 0.63%\n",
      "16 : 0.10%\n",
      "9 : 0.90%\n",
      "21 : 0.62%\n",
      "7 : 0.27%\n",
      "19 : 0.03%\n"
     ]
    }
   ],
   "source": [
    "# Get a breakdown of unique values in language\n",
    "unique_values = members_df.city.dropna().unique()\n",
    "for value in unique_values:\n",
    "    print(str(value) + ' : {:.2f}%'.format(members_df['city'].value_counts()[value]/members_df.shape[0] * 100))"
   ]
  },
  {
   "cell_type": "markdown",
   "metadata": {},
   "source": [
    "### Merge Data"
   ]
  },
  {
   "cell_type": "code",
   "execution_count": 17,
   "metadata": {},
   "outputs": [],
   "source": [
    "# Merge songs_df and song_extra_df\n",
    "songs_all_df = songs_df.merge(song_extra_df, on='song_id')"
   ]
  },
  {
   "cell_type": "code",
   "execution_count": 18,
   "metadata": {},
   "outputs": [],
   "source": [
    "# Merge train, member, and song data\n",
    "train_members = train_df.merge(members_df, on='msno', how='left')\n",
    "raw_data_df = train_members.merge(songs_all_df, on='song_id', how='left')"
   ]
  },
  {
   "cell_type": "code",
   "execution_count": 19,
   "metadata": {},
   "outputs": [
    {
     "data": {
      "text/html": [
       "<div>\n",
       "<style scoped>\n",
       "    .dataframe tbody tr th:only-of-type {\n",
       "        vertical-align: middle;\n",
       "    }\n",
       "\n",
       "    .dataframe tbody tr th {\n",
       "        vertical-align: top;\n",
       "    }\n",
       "\n",
       "    .dataframe thead th {\n",
       "        text-align: right;\n",
       "    }\n",
       "</style>\n",
       "<table border=\"1\" class=\"dataframe\">\n",
       "  <thead>\n",
       "    <tr style=\"text-align: right;\">\n",
       "      <th></th>\n",
       "      <th>msno</th>\n",
       "      <th>song_id</th>\n",
       "      <th>source_system_tab</th>\n",
       "      <th>source_screen_name</th>\n",
       "      <th>source_type</th>\n",
       "      <th>target</th>\n",
       "      <th>city</th>\n",
       "      <th>bd</th>\n",
       "      <th>gender</th>\n",
       "      <th>registered_via</th>\n",
       "      <th>registration_init_time</th>\n",
       "      <th>expiration_date</th>\n",
       "      <th>song_length</th>\n",
       "      <th>genre_ids</th>\n",
       "      <th>artist_name</th>\n",
       "      <th>composer</th>\n",
       "      <th>lyricist</th>\n",
       "      <th>language</th>\n",
       "      <th>name</th>\n",
       "      <th>isrc</th>\n",
       "    </tr>\n",
       "  </thead>\n",
       "  <tbody>\n",
       "    <tr>\n",
       "      <th>0</th>\n",
       "      <td>FGtllVqz18RPiwJj/edr2gV78zirAiY/9SmYvia+kCg=</td>\n",
       "      <td>BBzumQNXUHKdEBOB7mAJuzok+IJA1c2Ryg/yzTF6tik=</td>\n",
       "      <td>explore</td>\n",
       "      <td>Explore</td>\n",
       "      <td>online-playlist</td>\n",
       "      <td>1</td>\n",
       "      <td>1</td>\n",
       "      <td>0</td>\n",
       "      <td>NaN</td>\n",
       "      <td>7</td>\n",
       "      <td>20120102</td>\n",
       "      <td>20171005</td>\n",
       "      <td>206471.0</td>\n",
       "      <td>359</td>\n",
       "      <td>Bastille</td>\n",
       "      <td>Dan Smith| Mark Crew</td>\n",
       "      <td>NaN</td>\n",
       "      <td>52.0</td>\n",
       "      <td>Good Grief</td>\n",
       "      <td>GBUM71602854</td>\n",
       "    </tr>\n",
       "    <tr>\n",
       "      <th>1</th>\n",
       "      <td>Xumu+NIjS6QYVxDS4/t3SawvJ7viT9hPKXmf0RtLNx8=</td>\n",
       "      <td>bhp/MpSNoqoxOIB+/l8WPqu6jldth4DIpCm3ayXnJqM=</td>\n",
       "      <td>my library</td>\n",
       "      <td>Local playlist more</td>\n",
       "      <td>local-playlist</td>\n",
       "      <td>1</td>\n",
       "      <td>13</td>\n",
       "      <td>24</td>\n",
       "      <td>female</td>\n",
       "      <td>9</td>\n",
       "      <td>20110525</td>\n",
       "      <td>20170911</td>\n",
       "      <td>284584.0</td>\n",
       "      <td>1259</td>\n",
       "      <td>Various Artists</td>\n",
       "      <td>NaN</td>\n",
       "      <td>NaN</td>\n",
       "      <td>52.0</td>\n",
       "      <td>Lords of Cardboard</td>\n",
       "      <td>US3C69910183</td>\n",
       "    </tr>\n",
       "    <tr>\n",
       "      <th>2</th>\n",
       "      <td>Xumu+NIjS6QYVxDS4/t3SawvJ7viT9hPKXmf0RtLNx8=</td>\n",
       "      <td>JNWfrrC7zNN7BdMpsISKa4Mw+xVJYNnxXh3/Epw7QgY=</td>\n",
       "      <td>my library</td>\n",
       "      <td>Local playlist more</td>\n",
       "      <td>local-playlist</td>\n",
       "      <td>1</td>\n",
       "      <td>13</td>\n",
       "      <td>24</td>\n",
       "      <td>female</td>\n",
       "      <td>9</td>\n",
       "      <td>20110525</td>\n",
       "      <td>20170911</td>\n",
       "      <td>225396.0</td>\n",
       "      <td>1259</td>\n",
       "      <td>Nas</td>\n",
       "      <td>N. Jones、W. Adams、J. Lordan、D. Ingle</td>\n",
       "      <td>NaN</td>\n",
       "      <td>52.0</td>\n",
       "      <td>Hip Hop Is Dead(Album Version (Edited))</td>\n",
       "      <td>USUM70618761</td>\n",
       "    </tr>\n",
       "    <tr>\n",
       "      <th>3</th>\n",
       "      <td>Xumu+NIjS6QYVxDS4/t3SawvJ7viT9hPKXmf0RtLNx8=</td>\n",
       "      <td>2A87tzfnJTSWqD7gIZHisolhe4DMdzkbd6LzO1KHjNs=</td>\n",
       "      <td>my library</td>\n",
       "      <td>Local playlist more</td>\n",
       "      <td>local-playlist</td>\n",
       "      <td>1</td>\n",
       "      <td>13</td>\n",
       "      <td>24</td>\n",
       "      <td>female</td>\n",
       "      <td>9</td>\n",
       "      <td>20110525</td>\n",
       "      <td>20170911</td>\n",
       "      <td>255512.0</td>\n",
       "      <td>1019</td>\n",
       "      <td>Soundway</td>\n",
       "      <td>Kwadwo Donkoh</td>\n",
       "      <td>NaN</td>\n",
       "      <td>-1.0</td>\n",
       "      <td>Disco Africa</td>\n",
       "      <td>GBUQH1000063</td>\n",
       "    </tr>\n",
       "    <tr>\n",
       "      <th>4</th>\n",
       "      <td>FGtllVqz18RPiwJj/edr2gV78zirAiY/9SmYvia+kCg=</td>\n",
       "      <td>3qm6XTZ6MOCU11x8FIVbAGH5l5uMkT3/ZalWG1oo2Gc=</td>\n",
       "      <td>explore</td>\n",
       "      <td>Explore</td>\n",
       "      <td>online-playlist</td>\n",
       "      <td>1</td>\n",
       "      <td>1</td>\n",
       "      <td>0</td>\n",
       "      <td>NaN</td>\n",
       "      <td>7</td>\n",
       "      <td>20120102</td>\n",
       "      <td>20171005</td>\n",
       "      <td>187802.0</td>\n",
       "      <td>1011</td>\n",
       "      <td>Brett Young</td>\n",
       "      <td>Brett Young| Kelly Archer| Justin Ebach</td>\n",
       "      <td>NaN</td>\n",
       "      <td>52.0</td>\n",
       "      <td>Sleep Without You</td>\n",
       "      <td>QM3E21606003</td>\n",
       "    </tr>\n",
       "  </tbody>\n",
       "</table>\n",
       "</div>"
      ],
      "text/plain": [
       "                                           msno  \\\n",
       "0  FGtllVqz18RPiwJj/edr2gV78zirAiY/9SmYvia+kCg=   \n",
       "1  Xumu+NIjS6QYVxDS4/t3SawvJ7viT9hPKXmf0RtLNx8=   \n",
       "2  Xumu+NIjS6QYVxDS4/t3SawvJ7viT9hPKXmf0RtLNx8=   \n",
       "3  Xumu+NIjS6QYVxDS4/t3SawvJ7viT9hPKXmf0RtLNx8=   \n",
       "4  FGtllVqz18RPiwJj/edr2gV78zirAiY/9SmYvia+kCg=   \n",
       "\n",
       "                                        song_id source_system_tab  \\\n",
       "0  BBzumQNXUHKdEBOB7mAJuzok+IJA1c2Ryg/yzTF6tik=           explore   \n",
       "1  bhp/MpSNoqoxOIB+/l8WPqu6jldth4DIpCm3ayXnJqM=        my library   \n",
       "2  JNWfrrC7zNN7BdMpsISKa4Mw+xVJYNnxXh3/Epw7QgY=        my library   \n",
       "3  2A87tzfnJTSWqD7gIZHisolhe4DMdzkbd6LzO1KHjNs=        my library   \n",
       "4  3qm6XTZ6MOCU11x8FIVbAGH5l5uMkT3/ZalWG1oo2Gc=           explore   \n",
       "\n",
       "    source_screen_name      source_type  target  city  bd  gender  \\\n",
       "0              Explore  online-playlist       1     1   0     NaN   \n",
       "1  Local playlist more   local-playlist       1    13  24  female   \n",
       "2  Local playlist more   local-playlist       1    13  24  female   \n",
       "3  Local playlist more   local-playlist       1    13  24  female   \n",
       "4              Explore  online-playlist       1     1   0     NaN   \n",
       "\n",
       "   registered_via  registration_init_time  expiration_date  song_length  \\\n",
       "0               7                20120102         20171005     206471.0   \n",
       "1               9                20110525         20170911     284584.0   \n",
       "2               9                20110525         20170911     225396.0   \n",
       "3               9                20110525         20170911     255512.0   \n",
       "4               7                20120102         20171005     187802.0   \n",
       "\n",
       "  genre_ids      artist_name                                 composer  \\\n",
       "0       359         Bastille                     Dan Smith| Mark Crew   \n",
       "1      1259  Various Artists                                      NaN   \n",
       "2      1259              Nas     N. Jones、W. Adams、J. Lordan、D. Ingle   \n",
       "3      1019         Soundway                            Kwadwo Donkoh   \n",
       "4      1011      Brett Young  Brett Young| Kelly Archer| Justin Ebach   \n",
       "\n",
       "  lyricist  language                                     name          isrc  \n",
       "0      NaN      52.0                               Good Grief  GBUM71602854  \n",
       "1      NaN      52.0                       Lords of Cardboard  US3C69910183  \n",
       "2      NaN      52.0  Hip Hop Is Dead(Album Version (Edited))  USUM70618761  \n",
       "3      NaN      -1.0                             Disco Africa  GBUQH1000063  \n",
       "4      NaN      52.0                        Sleep Without You  QM3E21606003  "
      ]
     },
     "execution_count": 19,
     "metadata": {},
     "output_type": "execute_result"
    }
   ],
   "source": [
    "# View top 5 rows of dataframe\n",
    "raw_data_df.head()"
   ]
  },
  {
   "cell_type": "code",
   "execution_count": 20,
   "metadata": {},
   "outputs": [],
   "source": [
    "# Clear original data from memory\n",
    "del train_df\n",
    "del test_df\n",
    "del songs_df\n",
    "del members_df\n",
    "del song_extra_df"
   ]
  },
  {
   "cell_type": "markdown",
   "metadata": {},
   "source": [
    "### Missing Data"
   ]
  },
  {
   "cell_type": "code",
   "execution_count": 21,
   "metadata": {},
   "outputs": [],
   "source": [
    "# Function to find percentage of missing values in columns\n",
    "def missing_data(df):\n",
    "    for col in df.columns:\n",
    "        nan_count = df[col].isnull().sum()\n",
    "        total = df.shape[0]\n",
    "        percentage = nan_count/total * 100\n",
    "        print(str(col) + ' has {:.2f}% missing values'.format(percentage))"
   ]
  },
  {
   "cell_type": "code",
   "execution_count": 22,
   "metadata": {},
   "outputs": [
    {
     "name": "stdout",
     "output_type": "stream",
     "text": [
      "msno has 0.00% missing values\n",
      "song_id has 0.00% missing values\n",
      "source_system_tab has 0.34% missing values\n",
      "source_screen_name has 5.62% missing values\n",
      "source_type has 0.29% missing values\n",
      "target has 0.00% missing values\n",
      "city has 0.00% missing values\n",
      "bd has 0.00% missing values\n",
      "gender has 40.14% missing values\n",
      "registered_via has 0.00% missing values\n",
      "registration_init_time has 0.00% missing values\n",
      "expiration_date has 0.00% missing values\n",
      "song_length has 0.02% missing values\n",
      "genre_ids has 1.63% missing values\n",
      "artist_name has 0.02% missing values\n",
      "composer has 22.73% missing values\n",
      "lyricist has 43.10% missing values\n",
      "language has 0.02% missing values\n",
      "name has 0.02% missing values\n",
      "isrc has 7.83% missing values\n"
     ]
    }
   ],
   "source": [
    "# Find Percentage of missing values in columns\n",
    "missing_data(raw_data_df)"
   ]
  },
  {
   "cell_type": "markdown",
   "metadata": {},
   "source": [
    "## Feature Engineering"
   ]
  },
  {
   "cell_type": "markdown",
   "metadata": {},
   "source": [
    "### Member Data"
   ]
  },
  {
   "cell_type": "code",
   "execution_count": 23,
   "metadata": {},
   "outputs": [],
   "source": [
    "# Function to filter by bd\n",
    "def filter_bd(x):\n",
    "    if x >= 0 and x <= 80:\n",
    "        return x\n",
    "    else:\n",
    "        return np.nan"
   ]
  },
  {
   "cell_type": "code",
   "execution_count": 24,
   "metadata": {},
   "outputs": [],
   "source": [
    "# Filter data by bd\n",
    "raw_data_df['bd'] = raw_data_df['bd'].apply(filter_bd) "
   ]
  },
  {
   "cell_type": "code",
   "execution_count": 25,
   "metadata": {},
   "outputs": [],
   "source": [
    "# Function to convert date data\n",
    "def convert_datetime(df):\n",
    "    df['registration_init_time'] = pd.to_datetime(df['registration_init_time'], format='%Y%m%d')\n",
    "    df['expiration_date'] = pd.to_datetime(df['expiration_date'], format='%Y%m%d')\n",
    "    \n",
    "    df['membership_days'] = df['expiration_date'].subtract(df['registration_init_time']).dt.days.astype(int)\n",
    "    \n",
    "    df['registration_year'] = df['registration_init_time'].dt.year\n",
    "    df['registration_month'] = df['registration_init_time'].dt.month\n",
    "    df['registration_day'] = df['registration_init_time'].dt.day\n",
    "    \n",
    "    df['expiration_year'] = df['expiration_date'].dt.year\n",
    "    df['expiration_month'] = df['expiration_date'].dt.month\n",
    "    df['expiration_day'] = df['expiration_date'].dt.day\n",
    "    \n",
    "    return df"
   ]
  },
  {
   "cell_type": "code",
   "execution_count": 26,
   "metadata": {},
   "outputs": [],
   "source": [
    "# Convert date data\n",
    "data_fe_df = convert_datetime(raw_data_df)\n",
    "data_fe_df['registration_init_time'] = data_fe_df.registration_init_time.astype('object')\n",
    "data_fe_df['expiration_date'] = data_fe_df.expiration_date.astype('object')"
   ]
  },
  {
   "cell_type": "code",
   "execution_count": 27,
   "metadata": {},
   "outputs": [],
   "source": [
    "# Clear raw_data_df from memory\n",
    "del raw_data_df"
   ]
  },
  {
   "cell_type": "markdown",
   "metadata": {},
   "source": [
    "### Song Data"
   ]
  },
  {
   "cell_type": "code",
   "execution_count": 28,
   "metadata": {},
   "outputs": [],
   "source": [
    "# Function to breakout genres\n",
    "def breakout_genres(df):\n",
    "    genre_matrix = np.zeros((df.shape[0], 4))\n",
    "\n",
    "    for i in range(df.shape[0]):\n",
    "        ids = str(df['genre_ids'].values[i]).split('|')\n",
    "        if len(ids) > 2:\n",
    "            genre_matrix[i, 0] = (ids[0])\n",
    "            genre_matrix[i, 1] = (ids[1])\n",
    "            genre_matrix[i, 2] = (ids[2])\n",
    "        elif len(ids) > 1:\n",
    "            genre_matrix[i, 0] = (ids[0])\n",
    "            genre_matrix[i, 1] = (ids[1])\n",
    "        elif len(ids) == 1:\n",
    "            genre_matrix[i, 0] = (ids[0])\n",
    "        genre_matrix[i, 3] = len(ids)\n",
    "        \n",
    "    df['first_genre_id'] = genre_matrix[:, 0] \n",
    "    df['second_genre_id'] = genre_matrix[:, 1]\n",
    "    df['third_genre_id'] = genre_matrix[:, 2] \n",
    "    df['genre_ids_count'] = genre_matrix[:, 3] \n",
    "    \n",
    "    return df"
   ]
  },
  {
   "cell_type": "code",
   "execution_count": 29,
   "metadata": {},
   "outputs": [],
   "source": [
    "# Breakout genres and get genre count\n",
    "data_fe_df = breakout_genres(data_fe_df)"
   ]
  },
  {
   "cell_type": "code",
   "execution_count": 30,
   "metadata": {},
   "outputs": [],
   "source": [
    "# Function to show if song is featured\n",
    "def calculate_featured(df):\n",
    "    df['featured'] = df['artist_name'].apply(lambda x: 1 if ' feat' in str(x) else 0).astype(np.int8)\n",
    "    return df"
   ]
  },
  {
   "cell_type": "code",
   "execution_count": 31,
   "metadata": {},
   "outputs": [],
   "source": [
    "# Create feautured column\n",
    "data_df_df = calculate_featured(data_fe_df)"
   ]
  },
  {
   "cell_type": "code",
   "execution_count": 32,
   "metadata": {},
   "outputs": [],
   "source": [
    "# Function to breakdown ISRC\n",
    "def isrc_features(df):\n",
    "    isrc = df['isrc']\n",
    "    df['country_code'] = isrc.str.slice(0, 2)\n",
    "    df['registration_code'] = isrc.str.slice(2, 5)\n",
    "    df['song_year'] = isrc.str.slice(5, 7).astype(float)\n",
    "    df['song_year'] = df['song_year'].apply(lambda x: 2000+x if x < 18 else 1900+x)\n",
    "    return df"
   ]
  },
  {
   "cell_type": "code",
   "execution_count": 33,
   "metadata": {},
   "outputs": [],
   "source": [
    "# Breakdown ISRC\n",
    "data_fe_df = isrc_features(data_fe_df)"
   ]
  },
  {
   "cell_type": "markdown",
   "metadata": {},
   "source": [
    "### Missing Data"
   ]
  },
  {
   "cell_type": "code",
   "execution_count": 34,
   "metadata": {},
   "outputs": [],
   "source": [
    "# Function to fill in missing data\n",
    "def filling_missing_data(df):\n",
    "    \n",
    "    df['source_system_tab'].fillna('no_source_system_tab', inplace=True)\n",
    "    df['source_screen_name'].fillna('no_source_screen_name', inplace=True)\n",
    "    df['source_type'].fillna('np_source_type', inplace=True)\n",
    "    df['bd'].fillna(0, inplace=True)\n",
    "    df['gender'].fillna('no_gender', inplace=True)\n",
    "    df['song_length'].fillna(0, inplace=True)\n",
    "    df['genre_ids'].fillna(0, inplace=True)\n",
    "    df['artist_name'].fillna('no_artist_name', inplace=True)\n",
    "    df['composer'].fillna('no_composer', inplace=True)\n",
    "    df['lyricist'].fillna('no_lyricist', inplace=True)\n",
    "    df['language'].fillna(0, inplace=True)\n",
    "    df['name'].fillna('no_name', inplace=True)\n",
    "    df['isrc'].fillna('no_isrc', inplace=True)\n",
    "    df['first_genre_id'].fillna(0, inplace=True)\n",
    "    df['country_code'].fillna('no_country_code', inplace=True)\n",
    "    df['registration_code'].fillna('no_registration_code', inplace=True)\n",
    "    df['song_year'].fillna(0, inplace=True)\n",
    "    \n",
    "    return df"
   ]
  },
  {
   "cell_type": "code",
   "execution_count": 35,
   "metadata": {},
   "outputs": [],
   "source": [
    "# Fill in missing data\n",
    "data_raw_df = filling_missing_data(data_fe_df)"
   ]
  },
  {
   "cell_type": "code",
   "execution_count": 36,
   "metadata": {},
   "outputs": [
    {
     "data": {
      "text/plain": [
       "msno                      False\n",
       "song_id                   False\n",
       "source_system_tab         False\n",
       "source_screen_name        False\n",
       "source_type               False\n",
       "target                    False\n",
       "city                      False\n",
       "bd                        False\n",
       "gender                    False\n",
       "registered_via            False\n",
       "registration_init_time    False\n",
       "expiration_date           False\n",
       "song_length               False\n",
       "genre_ids                 False\n",
       "artist_name               False\n",
       "composer                  False\n",
       "lyricist                  False\n",
       "language                  False\n",
       "name                      False\n",
       "isrc                      False\n",
       "membership_days           False\n",
       "registration_year         False\n",
       "registration_month        False\n",
       "registration_day          False\n",
       "expiration_year           False\n",
       "expiration_month          False\n",
       "expiration_day            False\n",
       "first_genre_id            False\n",
       "second_genre_id           False\n",
       "third_genre_id            False\n",
       "genre_ids_count           False\n",
       "featured                  False\n",
       "country_code              False\n",
       "registration_code         False\n",
       "song_year                 False\n",
       "dtype: bool"
      ]
     },
     "execution_count": 36,
     "metadata": {},
     "output_type": "execute_result"
    }
   ],
   "source": [
    "# Check for any missing data\n",
    "data_fe_df.isnull().any()"
   ]
  },
  {
   "cell_type": "markdown",
   "metadata": {},
   "source": [
    "### Extra Song Data"
   ]
  },
  {
   "cell_type": "code",
   "execution_count": 37,
   "metadata": {},
   "outputs": [],
   "source": [
    "# Function to count the number of artists/bands\n",
    "def artist_count(x):\n",
    "    return x.count('and') + x.count(',') + x.count(' feat') + x.count('&') + 1"
   ]
  },
  {
   "cell_type": "code",
   "execution_count": 38,
   "metadata": {},
   "outputs": [],
   "source": [
    "# Count the number of artists/bands\n",
    "data_fe_df['artist_count'] = data_fe_df['artist_name'].apply(artist_count).astype(np.int64)"
   ]
  },
  {
   "cell_type": "code",
   "execution_count": 39,
   "metadata": {},
   "outputs": [],
   "source": [
    "# Function to get the first artist/band (usually lead artist/band)\n",
    "def get_first_artist(x):\n",
    "    if x.count('and') > 0:\n",
    "        x = x.split('and')[0]\n",
    "    if x.count(',') > 0:\n",
    "        x = x.split(',')[0]\n",
    "    if x.count(' feat') > 0:\n",
    "        x = x.split(' feat')[0]\n",
    "    if x.count('&') > 0:\n",
    "        x = x.split('&')[0]\n",
    "    return x.strip()"
   ]
  },
  {
   "cell_type": "code",
   "execution_count": 40,
   "metadata": {},
   "outputs": [],
   "source": [
    "# Get the first artist/band \n",
    "data_fe_df['first_artist_name'] = data_fe_df['artist_name'].apply(get_first_artist)"
   ]
  },
  {
   "cell_type": "markdown",
   "metadata": {},
   "source": [
    "### Standardization"
   ]
  },
  {
   "cell_type": "code",
   "execution_count": 41,
   "metadata": {},
   "outputs": [],
   "source": [
    "# Create a list of continuous features\n",
    "continuous_features = ['bd', 'song_length', 'membership_days', 'genre_ids_count', 'artist_count']"
   ]
  },
  {
   "cell_type": "code",
   "execution_count": 42,
   "metadata": {},
   "outputs": [],
   "source": [
    "# Standardize continuous features\n",
    "for feature in continuous_features:\n",
    "    scaler = StandardScaler()\n",
    "    data_fe_df[feature] = scaler.fit_transform(data_fe_df[feature].values.reshape(-1,1))"
   ]
  },
  {
   "cell_type": "markdown",
   "metadata": {},
   "source": [
    "### Lable-Encoding"
   ]
  },
  {
   "cell_type": "code",
   "execution_count": 43,
   "metadata": {},
   "outputs": [],
   "source": [
    "# Create a list of categorical features\n",
    "categorical_features = ['msno', 'song_id', 'source_system_tab', 'source_screen_name', 'source_type', 'city', 'gender',\\\n",
    "                'registered_via', 'name', 'registration_year', 'registration_month', 'registration_day',\\\n",
    "                'expiration_year', 'expiration_month', 'expiration_day', 'first_genre_id', 'second_genre_id',\\\n",
    "                'third_genre_id', 'first_artist_name', 'country_code',\\\n",
    "                'registration_code','song_year', 'language', 'registration_init_time', 'expiration_date']"
   ]
  },
  {
   "cell_type": "code",
   "execution_count": 44,
   "metadata": {},
   "outputs": [
    {
     "name": "stderr",
     "output_type": "stream",
     "text": [
      "/opt/conda/lib/python3.7/site-packages/sklearn/utils/validation.py:72: DataConversionWarning: A column-vector y was passed when a 1d array was expected. Please change the shape of y to (n_samples, ), for example using ravel().\n",
      "  return f(**kwargs)\n"
     ]
    }
   ],
   "source": [
    "# Encode categorical features\n",
    "for feature in categorical_features:\n",
    "    le = LabelEncoder()\n",
    "    data_feature = set(data_fe_df[feature])\n",
    "    data_feature  = np.array(list(data_feature))\n",
    "    le = le.fit(data_feature)\n",
    "    data_fe_df[feature] = le.transform(data_fe_df[feature].values.reshape(-1,1))"
   ]
  },
  {
   "cell_type": "markdown",
   "metadata": {},
   "source": [
    "## Models"
   ]
  },
  {
   "cell_type": "markdown",
   "metadata": {},
   "source": [
    "### Test and Train Data"
   ]
  },
  {
   "cell_type": "code",
   "execution_count": 45,
   "metadata": {},
   "outputs": [
    {
     "name": "stdout",
     "output_type": "stream",
     "text": [
      "<class 'pandas.core.frame.DataFrame'>\n",
      "Int64Index: 7377418 entries, 0 to 7377417\n",
      "Data columns (total 37 columns):\n",
      " #   Column                  Dtype  \n",
      "---  ------                  -----  \n",
      " 0   msno                    int64  \n",
      " 1   song_id                 int64  \n",
      " 2   source_system_tab       int64  \n",
      " 3   source_screen_name      int64  \n",
      " 4   source_type             int64  \n",
      " 5   target                  int64  \n",
      " 6   city                    int64  \n",
      " 7   bd                      float64\n",
      " 8   gender                  int64  \n",
      " 9   registered_via          int64  \n",
      " 10  registration_init_time  int64  \n",
      " 11  expiration_date         int64  \n",
      " 12  song_length             float64\n",
      " 13  genre_ids               object \n",
      " 14  artist_name             object \n",
      " 15  composer                object \n",
      " 16  lyricist                object \n",
      " 17  language                int64  \n",
      " 18  name                    int64  \n",
      " 19  isrc                    object \n",
      " 20  membership_days         float64\n",
      " 21  registration_year       int64  \n",
      " 22  registration_month      int64  \n",
      " 23  registration_day        int64  \n",
      " 24  expiration_year         int64  \n",
      " 25  expiration_month        int64  \n",
      " 26  expiration_day          int64  \n",
      " 27  first_genre_id          int64  \n",
      " 28  second_genre_id         int64  \n",
      " 29  third_genre_id          int64  \n",
      " 30  genre_ids_count         float64\n",
      " 31  featured                int8   \n",
      " 32  country_code            int64  \n",
      " 33  registration_code       int64  \n",
      " 34  song_year               int64  \n",
      " 35  artist_count            float64\n",
      " 36  first_artist_name       int64  \n",
      "dtypes: float64(5), int64(26), int8(1), object(5)\n",
      "memory usage: 2.0+ GB\n"
     ]
    }
   ],
   "source": [
    "data_fe_df.info()"
   ]
  },
  {
   "cell_type": "code",
   "execution_count": 46,
   "metadata": {},
   "outputs": [],
   "source": [
    "# Create a df for x\n",
    "x = data_fe_df[['msno', 'song_id', 'source_system_tab', 'source_screen_name', 'source_type',\n",
    "               'city', 'bd', 'gender', 'registered_via', 'registration_init_time', 'expiration_date', 'song_length',\n",
    "               'language', 'name', 'membership_days', 'registration_year', 'registration_month', \n",
    "               'registration_day', 'expiration_year', 'expiration_month', 'expiration_day', 'first_genre_id', 'second_genre_id', 'third_genre_id', \n",
    "               'genre_ids_count', 'featured', 'country_code', 'registration_code', 'song_year']]"
   ]
  },
  {
   "cell_type": "code",
   "execution_count": 47,
   "metadata": {},
   "outputs": [],
   "source": [
    "# Create a df for y\n",
    "y = data_fe_df['target']"
   ]
  },
  {
   "cell_type": "code",
   "execution_count": 48,
   "metadata": {},
   "outputs": [],
   "source": [
    "# Delete data_fe_df from memory\n",
    "del data_fe_df"
   ]
  },
  {
   "cell_type": "code",
   "execution_count": 49,
   "metadata": {},
   "outputs": [],
   "source": [
    "# Create train and test data\n",
    "x_train, x_test, y_train, y_test = train_test_split(x,y,test_size = .2,random_state=4444)"
   ]
  },
  {
   "cell_type": "markdown",
   "metadata": {},
   "source": [
    "### K-Nearest Neighbors"
   ]
  },
  {
   "cell_type": "code",
   "execution_count": 50,
   "metadata": {},
   "outputs": [],
   "source": [
    "# Get predictions from KNN model\n",
    "knn = KNeighborsClassifier(n_neighbors=20)\n",
    "knn_model = knn.fit(x_train,y_train)\n",
    "knn_predict = knn_model.predict(x_test)"
   ]
  },
  {
   "cell_type": "code",
   "execution_count": 51,
   "metadata": {},
   "outputs": [
    {
     "name": "stdout",
     "output_type": "stream",
     "text": [
      "K-Nearest Neighbors: \n",
      " Recall: 0.5219536951157622 \n",
      " Precision: 0.5648871866072066 \n",
      " F1: 0.5425724396854871\n",
      " Accuracy: 0.5569033618798984\n"
     ]
    }
   ],
   "source": [
    "# Assess predictions\n",
    "knn_rscore = recall_score(y_test, knn_predict, pos_label = 1)\n",
    "knn_pscore = precision_score(y_test, knn_predict, pos_label=1)\n",
    "knn_fscore = f1_score(y_test, knn_predict, pos_label=1)\n",
    "knn_accuracy = accuracy_score(y_test, knn_predict)\n",
    "print(f'K-Nearest Neighbors: \\n Recall: {knn_rscore} \\n Precision: {knn_pscore} \\n F1: {knn_fscore}\\n Accuracy: {knn_accuracy}')"
   ]
  },
  {
   "cell_type": "code",
   "execution_count": 52,
   "metadata": {},
   "outputs": [
    {
     "name": "stdout",
     "output_type": "stream",
     "text": [
      "              precision    recall  f1-score   support\n",
      "\n",
      "           0       0.55      0.59      0.57    732625\n",
      "           1       0.56      0.52      0.54    742859\n",
      "\n",
      "    accuracy                           0.56   1475484\n",
      "   macro avg       0.56      0.56      0.56   1475484\n",
      "weighted avg       0.56      0.56      0.56   1475484\n",
      "\n"
     ]
    }
   ],
   "source": [
    "# Print classification report\n",
    "print(classification_report(y_test, knn_predict))"
   ]
  },
  {
   "cell_type": "markdown",
   "metadata": {},
   "source": [
    "### Logistic Regression"
   ]
  },
  {
   "cell_type": "code",
   "execution_count": 53,
   "metadata": {},
   "outputs": [],
   "source": [
    "# Get predictions from logistic regression model\n",
    "lg = LogisticRegression()\n",
    "lg_model = lg.fit(x_train, y_train)\n",
    "lg_predict = lg_model.predict(x_test)"
   ]
  },
  {
   "cell_type": "code",
   "execution_count": 54,
   "metadata": {},
   "outputs": [
    {
     "name": "stdout",
     "output_type": "stream",
     "text": [
      "Logistic Regression: \n",
      " Recall: 0.6519756777531133 \n",
      " Precision: 0.5171969706677602 \n",
      " F1: 0.5768178821808809\n",
      " Accuracy: 0.5183607548438343\n"
     ]
    }
   ],
   "source": [
    "# Assess predictions\n",
    "rscore = recall_score(y_test, lg_predict, pos_label = 1)\n",
    "pscore = precision_score(y_test, lg_predict, pos_label=1)\n",
    "fscore = f1_score(y_test, lg_predict, pos_label=1)\n",
    "accuracy = accuracy_score(y_test, lg_predict)\n",
    "print(f'Logistic Regression: \\n Recall: {rscore} \\n Precision: {pscore} \\n F1: {fscore}\\n Accuracy: {accuracy}')"
   ]
  },
  {
   "cell_type": "code",
   "execution_count": 55,
   "metadata": {},
   "outputs": [
    {
     "name": "stdout",
     "output_type": "stream",
     "text": [
      "              precision    recall  f1-score   support\n",
      "\n",
      "           0       0.52      0.38      0.44    732625\n",
      "           1       0.52      0.65      0.58    742859\n",
      "\n",
      "    accuracy                           0.52   1475484\n",
      "   macro avg       0.52      0.52      0.51   1475484\n",
      "weighted avg       0.52      0.52      0.51   1475484\n",
      "\n"
     ]
    }
   ],
   "source": [
    "# Print classification report\n",
    "print(classification_report(y_test, lg_predict))"
   ]
  },
  {
   "cell_type": "markdown",
   "metadata": {},
   "source": [
    "### Gaussian Naive Bayes"
   ]
  },
  {
   "cell_type": "code",
   "execution_count": 56,
   "metadata": {},
   "outputs": [],
   "source": [
    "# Get predictions from gaussian naive bayes model\n",
    "gauss_ = GaussianNB()\n",
    "gauss_model = gauss_.fit(x_train,y_train)\n",
    "gauss_predict = gauss_model.predict(x_test)"
   ]
  },
  {
   "cell_type": "code",
   "execution_count": 57,
   "metadata": {},
   "outputs": [
    {
     "name": "stdout",
     "output_type": "stream",
     "text": [
      "Gaussian Naive Bayes: \n",
      " Recall: 0.7527431181422046 \n",
      " Precision: 0.5368068182036361 \n",
      " F1: 0.6266956040797045\n",
      " Accuracy: 0.5485027285961759\n"
     ]
    }
   ],
   "source": [
    "# Assess predictions\n",
    "rscore = recall_score(y_test, gauss_predict, pos_label = 1)\n",
    "pscore = precision_score(y_test, gauss_predict, pos_label=1)\n",
    "fscore = f1_score(y_test, gauss_predict, pos_label=1)\n",
    "accuracy = accuracy_score(y_test, gauss_predict)\n",
    "print(f'Gaussian Naive Bayes: \\n Recall: {rscore} \\n Precision: {pscore} \\n F1: {fscore}\\n Accuracy: {accuracy}')"
   ]
  },
  {
   "cell_type": "code",
   "execution_count": 58,
   "metadata": {},
   "outputs": [
    {
     "name": "stdout",
     "output_type": "stream",
     "text": [
      "              precision    recall  f1-score   support\n",
      "\n",
      "           0       0.58      0.34      0.43    732625\n",
      "           1       0.54      0.75      0.63    742859\n",
      "\n",
      "    accuracy                           0.55   1475484\n",
      "   macro avg       0.56      0.55      0.53   1475484\n",
      "weighted avg       0.56      0.55      0.53   1475484\n",
      "\n"
     ]
    }
   ],
   "source": [
    "# Print classification report\n",
    "print(classification_report(y_test, gauss_predict))"
   ]
  },
  {
   "cell_type": "markdown",
   "metadata": {},
   "source": [
    "### Decision Tree"
   ]
  },
  {
   "cell_type": "code",
   "execution_count": 59,
   "metadata": {},
   "outputs": [],
   "source": [
    "# Get predictions from decision tree model\n",
    "decisiontree = DecisionTreeClassifier()\n",
    "tree_model = decisiontree.fit(x_train,y_train)\n",
    "tree_predict = tree_model.predict(x_test)"
   ]
  },
  {
   "cell_type": "code",
   "execution_count": 60,
   "metadata": {},
   "outputs": [
    {
     "name": "stdout",
     "output_type": "stream",
     "text": [
      "Decision Tree: \n",
      " Recall: 0.6485470324785727 \n",
      " Precision: 0.6447135997944534 \n",
      " F1: 0.6466246346807505\n",
      " Accuracy: 0.6431157504927196\n"
     ]
    }
   ],
   "source": [
    "# Assess predictions\n",
    "rscore = recall_score(y_test, tree_predict, pos_label = 1)\n",
    "pscore = precision_score(y_test, tree_predict, pos_label=1)\n",
    "fscore = f1_score(y_test, tree_predict, pos_label=1)\n",
    "accuracy = accuracy_score(y_test, tree_predict)\n",
    "print(f'Decision Tree: \\n Recall: {rscore} \\n Precision: {pscore} \\n F1: {fscore}\\n Accuracy: {accuracy}')"
   ]
  },
  {
   "cell_type": "code",
   "execution_count": 61,
   "metadata": {},
   "outputs": [
    {
     "name": "stdout",
     "output_type": "stream",
     "text": [
      "              precision    recall  f1-score   support\n",
      "\n",
      "           0       0.64      0.64      0.64    732625\n",
      "           1       0.64      0.65      0.65    742859\n",
      "\n",
      "    accuracy                           0.64   1475484\n",
      "   macro avg       0.64      0.64      0.64   1475484\n",
      "weighted avg       0.64      0.64      0.64   1475484\n",
      "\n"
     ]
    }
   ],
   "source": [
    "# Print classification report\n",
    "print(classification_report(y_test, tree_predict))"
   ]
  },
  {
   "cell_type": "markdown",
   "metadata": {},
   "source": [
    "### Random Forest"
   ]
  },
  {
   "cell_type": "code",
   "execution_count": 64,
   "metadata": {},
   "outputs": [],
   "source": [
    "# Get predictions from random forest model\n",
    "randomforestmodel = RandomForestClassifier()\n",
    "rforest_model = randomforestmodel.fit(x_train, y_train)\n",
    "rforest_predict = rforest_model.predict(x_test)"
   ]
  },
  {
   "cell_type": "code",
   "execution_count": 68,
   "metadata": {},
   "outputs": [
    {
     "name": "stdout",
     "output_type": "stream",
     "text": [
      "Random Forest: \n",
      " Recall: 0.7289862544574408 \n",
      " Precision: 0.7385242715798518 \n",
      " F1: 0.7337242670669943\n",
      " Accuracy: 0.7336087683770207\n"
     ]
    }
   ],
   "source": [
    "# Assess predictions\n",
    "rscore = recall_score(y_test, rforest_predict, pos_label = 1)\n",
    "pscore = precision_score(y_test, rforest_predict, pos_label=1)\n",
    "fscore = f1_score(y_test, rforest_predict, pos_label=1)\n",
    "accuracy = accuracy_score(y_test, rforest_predict)\n",
    "print(f'Random Forest: \\n Recall: {rscore} \\n Precision: {pscore} \\n F1: {fscore}\\n Accuracy: {accuracy}')"
   ]
  },
  {
   "cell_type": "code",
   "execution_count": 69,
   "metadata": {},
   "outputs": [
    {
     "name": "stdout",
     "output_type": "stream",
     "text": [
      "              precision    recall  f1-score   support\n",
      "\n",
      "           0       0.73      0.74      0.73    732625\n",
      "           1       0.74      0.73      0.73    742859\n",
      "\n",
      "    accuracy                           0.73   1475484\n",
      "   macro avg       0.73      0.73      0.73   1475484\n",
      "weighted avg       0.73      0.73      0.73   1475484\n",
      "\n"
     ]
    }
   ],
   "source": [
    "# Print classification report\n",
    "print(classification_report(y_test, rforest_predict))"
   ]
  },
  {
   "cell_type": "markdown",
   "metadata": {},
   "source": [
    "### XGBoost"
   ]
  },
  {
   "cell_type": "code",
   "execution_count": null,
   "metadata": {},
   "outputs": [],
   "source": [
    "# Get predictions from random forest model\n",
    "gbm = xgb.XGBClassifier( n_estimators=30000,\n",
    "                        max_depth=4,\n",
    "                        objective='binary:logistic', #new objective\n",
    "                        learning_rate=.05, \n",
    "                        subsample=.8,\n",
    "                        min_child_weight=3,\n",
    "                        colsample_bytree=.8)\n",
    "eval_set = [(x_train,y_train),(x_test,y_test)]\n",
    "fit_model = gbm.fit( x_train, y_train, \n",
    "                    eval_set=eval_set,\n",
    "                    eval_metric='error', #new evaluation metric: classification error (could also use AUC, e.g.)\n",
    "                    early_stopping_rounds=50,\n",
    "                    verbose=False)\n",
    "gbm_predict = gbm.predict(x_test, ntree_limit=gbm.best_ntree_limit)"
   ]
  },
  {
   "cell_type": "code",
   "execution_count": null,
   "metadata": {},
   "outputs": [],
   "source": [
    "# Assess predictions\n",
    "rscore = recall_score(y_test, gbm_predict, pos_label = 1)\n",
    "pscore = precision_score(y_test, gbm_predict, pos_label=1)\n",
    "fscore = f1_score(y_test, gbm_predict, pos_label=1)\n",
    "accuracy = accuracy_score(y_test, gbm_predict)\n",
    "print(f'XGBoost: \\n Recall: {rscore} \\n Precision: {pscore} \\n F1: {fscore}\\n Accuracy: {accuracy}')"
   ]
  },
  {
   "cell_type": "code",
   "execution_count": null,
   "metadata": {},
   "outputs": [],
   "source": [
    "# Find the most important features\n",
    "xgb.plot_importance(gbm, importance_type='gain')"
   ]
  },
  {
   "cell_type": "markdown",
   "metadata": {},
   "source": [
    "### ROC Curve"
   ]
  },
  {
   "cell_type": "code",
   "execution_count": 73,
   "metadata": {},
   "outputs": [],
   "source": [
    "# Find ROC data for top models\n",
    "lg_fpr, lg_tpr, lg_thresholds = roc_curve(y_test, lg_model.predict_proba(x_test)[:,1],pos_label=1)\n",
    "knn_fpr, knn_tpr, knn_thresholds = roc_curve(y_test, knn_model.predict_proba(x_test)[:,1],pos_label=1)\n",
    "gauss_fpr, gauss_tpr, gauss_thresholds = roc_curve(y_test, gauss_model.predict_proba(x_test)[:,1],pos_label=1)\n",
    "rf_fpr, rf_tpr, rf_thresholds = roc_curve(y_test, rforest_model.predict_proba(x_test)[:,1],pos_label=1)"
   ]
  },
  {
   "cell_type": "code",
   "execution_count": 74,
   "metadata": {},
   "outputs": [
    {
     "data": {
      "image/png": "[encoded data removed]",
      "text/plain": [
       "<Figure size 720x720 with 1 Axes>"
      ]
     },
     "metadata": {
      "needs_background": "light"
     },
     "output_type": "display_data"
    }
   ],
   "source": [
    "# Plot ROC data\n",
    "plt.figure(figsize=(10,10))\n",
    "sns.set(font_scale=2)\n",
    "lg = plt.plot(lg_fpr, lg_tpr)\n",
    "knn = plt.plot(knn_fpr, knn_tpr)\n",
    "gnb = plt.plot(gauss_fpr, gauss_tpr)\n",
    "rf = plt.plot(rf_fpr, rf_tpr)\n",
    "plt.plot([0,1],[0,1])\n",
    "\n",
    "\n",
    "plt.xlim([-0.05,1.05])\n",
    "plt.ylim([-0.05,1.05])\n",
    "\n",
    "plt.xlabel('False Positive %')\n",
    "plt.ylabel('True Positive %')\n",
    "plt.title('ROC curve');\n",
    "plt.show()"
   ]
  },
  {
   "cell_type": "code",
   "execution_count": null,
   "metadata": {},
   "outputs": [],
   "source": []
  }
 ],
 "metadata": {
  "kernelspec": {
   "display_name": "Python 3",
   "language": "python",
   "name": "python3"
  },
  "language_info": {
   "codemirror_mode": {
    "name": "ipython",
    "version": 3
   },
   "file_extension": ".py",
   "mimetype": "text/x-python",
   "name": "python",
   "nbconvert_exporter": "python",
   "pygments_lexer": "ipython3",
   "version": "3.7.6"
  }
 },
 "nbformat": 4,
 "nbformat_minor": 4
}
